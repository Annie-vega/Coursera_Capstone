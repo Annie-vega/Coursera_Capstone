{
 "cells": [
  {
   "cell_type": "markdown",
   "id": "fitted-centre",
   "metadata": {},
   "source": [
    " # The Battle of Neighborhoods\n",
    " \n",
    " \n",
    " ## Introduction/Business Problem\n",
    " \n",
    " A description of the problem and a discussion of the background. (15 marks)\n",
    " \n",
    " \n",
    " A description of the data and how it will be used to solve the problem. (15 marks)"
   ]
  }
 ],
 "metadata": {
  "kernelspec": {
   "display_name": "Python 3",
   "language": "python",
   "name": "python3"
  },
  "language_info": {
   "codemirror_mode": {
    "name": "ipython",
    "version": 3
   },
   "file_extension": ".py",
   "mimetype": "text/x-python",
   "name": "python",
   "nbconvert_exporter": "python",
   "pygments_lexer": "ipython3",
   "version": "3.8.5"
  }
 },
 "nbformat": 4,
 "nbformat_minor": 5
}
