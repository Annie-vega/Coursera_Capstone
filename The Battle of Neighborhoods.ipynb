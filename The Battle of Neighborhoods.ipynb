{
 "cells": [
  {
   "cell_type": "markdown",
   "id": "alike-cache",
   "metadata": {},
   "source": [
    " # The Battle of Neighborhoods\n",
    " \n",
    " \n",
    " ## Introduction/Business Problem\n",
    " \n",
    " A description of the problem and a discussion of the background. (15 marks)\n",
    " \n",
    " \n",
    " A description of the data and how it will be used to solve the problem. (15 marks)"
   ]
  },
  {
   "cell_type": "markdown",
   "id": "agreed-course",
   "metadata": {},
   "source": [
    "## Problem description\n",
    "### Find the best space to open a new store\n",
    "\n",
    "As a young enterpreneur, I've been creating my brand online and I've been succeding for a year now, nevertheless one of my creations went viral and my business is growing at a fast pace and I will need to have my own space for the store, I need storage room, some shelves, showcases and a vibrant and young neighborhood were my brand can fit and grow.\n",
    "\n",
    "For this purpose, I'm interested in creating a tool that can filter the neighborhoods that are trendy, vibrant and young so I can contact realtors and larndlords to find the perfect store space for my needs. In order to define what \"trendy, vibrant and young\" means I have some ideas regarding the type of shops that should be in the area, the rent prices, the market forecasts and the \"top of mind\" places in my city for a business like mine.\n",
    "\n",
    "For my purpose I would need different datasets including list of the neighborhoods in my city, postal codes, average rental fees, lists of similar business to mine and rates of those places.\n"
   ]
  },
  {
   "cell_type": "markdown",
   "id": "deluxe-retreat",
   "metadata": {},
   "source": [
    "## How to use the data\n",
    "### Find similar stores\n",
    "\n",
    "To define which neighborhood is a good fit for my store, I want to start filtering other stores and brands similar to mine to understand where are they located, how much do they pay for their rental fee, how many of those stores are around and how big they are.\n",
    "#### 1. Create a list of similar business to mine and filter categories\n",
    "\n",
    "### Find all the neighborhoods and postal codes\n",
    "Using the online databasis I would organize neighborhoods and postal codes in the same dataframe\n",
    "\n",
    "Using the Foursquare API, I would filter similar stores and business\n",
    "\n",
    "#### 2. Post-process the database\n",
    "   "
   ]
  },
  {
   "cell_type": "markdown",
   "id": "fresh-dispute",
   "metadata": {},
   "source": [
    "## Methodology \n",
    "\n",
    "To achieve the objective of the project, I'll start by colecting external information, organising the input from friends and family, colleagues and competitors to start focusing the efforts in the zones with bigger likelihood to be the right ones. \n",
    "\n",
    "Afterwards I'll have to process the information, delimitate the relevant neighborhoods, filter the type of stores needed and start using clustering algorithms. "
   ]
  },
  {
   "cell_type": "markdown",
   "id": "front-alarm",
   "metadata": {},
   "source": [
    "## Results \n",
    "\n",
    "The analysis showed that my initial intuition regarding how people's perception on the trendy zones would be a valuable input for the analisis was correct. After comparing the results of the selected neighborhoods and other random zones as benchmark, it was clear that the strategy was dominant.\n",
    "\n",
    "It was an interesting experiment to explore the city from the perspective of an entrepreneur looking into real state, the potential stores to rent where promising and the extending this experiment to a more real example, most likely, would have very positive results."
   ]
  }
 ],
 "metadata": {
  "kernelspec": {
   "display_name": "Python 3",
   "language": "python",
   "name": "python3"
  },
  "language_info": {
   "codemirror_mode": {
    "name": "ipython",
    "version": 3
   },
   "file_extension": ".py",
   "mimetype": "text/x-python",
   "name": "python",
   "nbconvert_exporter": "python",
   "pygments_lexer": "ipython3",
   "version": "3.8.5"
  }
 },
 "nbformat": 4,
 "nbformat_minor": 5
}
